{
    "metadata": {
        "kernelspec": {
            "name": "SQL",
            "display_name": "SQL",
            "language": "sql"
        },
        "language_info": {
            "name": "sql",
            "version": ""
        }
    },
    "nbformat_minor": 2,
    "nbformat": 4,
    "cells": [
        {
            "cell_type": "markdown",
            "source": [
                "# Exercises: Creating, Updating, and Destroying Objects\n",
                "\n",
                "For the exercises, you will be working with objects and data you create. Before opening this notebook, make sure that you have set up the new connection to the server and that you have located the database and your schema.\n",
                "\n",
                "## Object Creation\n",
                "\n",
                "Before coding, think of three things you want to make. These could be coding projects, new recipes, or planned projects for a woodworking hobby. Brainstorm the appropriate column names and data types as well.\n",
                "\n",
                "Create a table under your schema called `planned_makes`."
            ],
            "metadata": {
                "azdata_cell_guid": "9d51c166-0c19-4f27-a422-2a6cf596bfb2"
            },
            "attachments": {}
        },
        {
            "cell_type": "code",
            "source": [
                "USE JunkDB_STL_March2022\r\n",
                "CREATE TABLE holly.planned_makes (\r\n",
                "    wizard_ID INT PRIMARY KEY IDENTITY,\r\n",
                "    wizard_name VARCHAR (200),\r\n",
                "    wand_type VARCHAR(200),\r\n",
                "    age INT)"
            ],
            "metadata": {
                "azdata_cell_guid": "d9238911-6f81-4f01-980d-b584307effaf",
                "language": "sql"
            },
            "outputs": [
                {
                    "output_type": "display_data",
                    "data": {
                        "text/html": "Commands completed successfully."
                    },
                    "metadata": {}
                },
                {
                    "output_type": "display_data",
                    "data": {
                        "text/html": "Total execution time: 00:00:00.066"
                    },
                    "metadata": {}
                }
            ],
            "execution_count": 10
        },
        {
            "cell_type": "markdown",
            "source": [
                "Add three rows to your table that are your planned makes."
            ],
            "metadata": {
                "azdata_cell_guid": "83cdf34d-8c4f-4fa1-a14e-77384b19d734"
            }
        },
        {
            "cell_type": "code",
            "source": [
                "--USE JunkDB_STL_March2022\r\n",
                "INSERT INTO holly.planned_makes (wizard_name, wand_type, age)\r\n",
                "\r\n",
                "VALUES ('Harry Potter', 'Unicorn hair', 11),\r\n",
                "('Hermione Granger', 'Dragon heartstring', 12),\r\n",
                "('Ronald Weasley', 'Pheonix Feather', 11),\r\n",
                "('Ginny Weasley', 'Elder wood', 10)\r\n",
                ""
            ],
            "metadata": {
                "azdata_cell_guid": "e7cff9cb-87ba-4c7b-98f2-eaf445e8719c",
                "language": "sql",
                "tags": []
            },
            "outputs": [
                {
                    "output_type": "display_data",
                    "data": {
                        "text/html": "(4 rows affected)"
                    },
                    "metadata": {}
                },
                {
                    "output_type": "display_data",
                    "data": {
                        "text/html": "Total execution time: 00:00:00.065"
                    },
                    "metadata": {}
                }
            ],
            "execution_count": 11
        },
        {
            "cell_type": "code",
            "source": [
                "SELECT * FROM holly.planned_makes"
            ],
            "metadata": {
                "language": "sql",
                "azdata_cell_guid": "c568f1a3-0a31-4bdd-8534-650da473a1a5"
            },
            "outputs": [
                {
                    "output_type": "display_data",
                    "data": {
                        "text/html": "(4 rows affected)"
                    },
                    "metadata": {}
                },
                {
                    "output_type": "display_data",
                    "data": {
                        "text/html": "Total execution time: 00:00:00.065"
                    },
                    "metadata": {}
                },
                {
                    "output_type": "execute_result",
                    "metadata": {},
                    "execution_count": 12,
                    "data": {
                        "application/vnd.dataresource+json": {
                            "schema": {
                                "fields": [
                                    {
                                        "name": "wizard_ID"
                                    },
                                    {
                                        "name": "wizard_name"
                                    },
                                    {
                                        "name": "wand_type"
                                    },
                                    {
                                        "name": "age"
                                    }
                                ]
                            },
                            "data": [
                                {
                                    "0": "1",
                                    "1": "Harry Potter",
                                    "2": "Unicorn hair",
                                    "3": "11"
                                },
                                {
                                    "0": "2",
                                    "1": "Hermione Granger",
                                    "2": "Dragon heartstring",
                                    "3": "12"
                                },
                                {
                                    "0": "3",
                                    "1": "Ronald Weasley",
                                    "2": "Pheonix Feather",
                                    "3": "11"
                                },
                                {
                                    "0": "4",
                                    "1": "Ginny Weasley",
                                    "2": "Elder wood",
                                    "3": "10"
                                }
                            ]
                        },
                        "text/html": [
                            "<table>",
                            "<tr><th>wizard_ID</th><th>wizard_name</th><th>wand_type</th><th>age</th></tr>",
                            "<tr><td>1</td><td>Harry Potter</td><td>Unicorn hair</td><td>11</td></tr>",
                            "<tr><td>2</td><td>Hermione Granger</td><td>Dragon heartstring</td><td>12</td></tr>",
                            "<tr><td>3</td><td>Ronald Weasley</td><td>Pheonix Feather</td><td>11</td></tr>",
                            "<tr><td>4</td><td>Ginny Weasley</td><td>Elder wood</td><td>10</td></tr>",
                            "</table>"
                        ]
                    }
                }
            ],
            "execution_count": 12
        },
        {
            "cell_type": "markdown",
            "source": [
                "## Update a Row\n",
                "\n",
                "Change different values in one of your three rows."
            ],
            "metadata": {
                "azdata_cell_guid": "4a39b8d4-ae97-4e09-8336-c5fc6a00d76c"
            },
            "attachments": {}
        },
        {
            "cell_type": "code",
            "source": [
                "USE JunkDB_STL_March2022\r\n",
                "UPDATE holly.planned_makes\r\n",
                "SET age = 15\r\n",
                "WHERE wizard_name= 'Harry Potter'\r\n",
                "\r\n",
                "\r\n",
                "\r\n",
                "SELECT * FROM holly.planned_makes"
            ],
            "metadata": {
                "azdata_cell_guid": "7409c695-9581-4ad8-b03a-574d2c4c87cb",
                "language": "sql"
            },
            "outputs": [
                {
                    "output_type": "display_data",
                    "data": {
                        "text/html": "(1 row affected)"
                    },
                    "metadata": {}
                },
                {
                    "output_type": "display_data",
                    "data": {
                        "text/html": "(4 rows affected)"
                    },
                    "metadata": {}
                },
                {
                    "output_type": "display_data",
                    "data": {
                        "text/html": "Total execution time: 00:00:00.072"
                    },
                    "metadata": {}
                },
                {
                    "output_type": "execute_result",
                    "metadata": {},
                    "execution_count": 13,
                    "data": {
                        "application/vnd.dataresource+json": {
                            "schema": {
                                "fields": [
                                    {
                                        "name": "wizard_ID"
                                    },
                                    {
                                        "name": "wizard_name"
                                    },
                                    {
                                        "name": "wand_type"
                                    },
                                    {
                                        "name": "age"
                                    }
                                ]
                            },
                            "data": [
                                {
                                    "0": "1",
                                    "1": "Harry Potter",
                                    "2": "Unicorn hair",
                                    "3": "15"
                                },
                                {
                                    "0": "2",
                                    "1": "Hermione Granger",
                                    "2": "Dragon heartstring",
                                    "3": "12"
                                },
                                {
                                    "0": "3",
                                    "1": "Ronald Weasley",
                                    "2": "Pheonix Feather",
                                    "3": "11"
                                },
                                {
                                    "0": "4",
                                    "1": "Ginny Weasley",
                                    "2": "Elder wood",
                                    "3": "10"
                                }
                            ]
                        },
                        "text/html": [
                            "<table>",
                            "<tr><th>wizard_ID</th><th>wizard_name</th><th>wand_type</th><th>age</th></tr>",
                            "<tr><td>1</td><td>Harry Potter</td><td>Unicorn hair</td><td>15</td></tr>",
                            "<tr><td>2</td><td>Hermione Granger</td><td>Dragon heartstring</td><td>12</td></tr>",
                            "<tr><td>3</td><td>Ronald Weasley</td><td>Pheonix Feather</td><td>11</td></tr>",
                            "<tr><td>4</td><td>Ginny Weasley</td><td>Elder wood</td><td>10</td></tr>",
                            "</table>"
                        ]
                    }
                }
            ],
            "execution_count": 13
        },
        {
            "cell_type": "markdown",
            "source": [
                "## Delete a Row\n",
                "\n",
                "Delete one of the rows from your table."
            ],
            "metadata": {
                "azdata_cell_guid": "95e91a6e-9038-42d9-9401-5738842aba17"
            }
        },
        {
            "cell_type": "code",
            "source": [
                "USE JunkDB_STL_March2022\r\n",
                "DELETE FROM holly.planned_makes\r\n",
                "WHERE age= 10"
            ],
            "metadata": {
                "azdata_cell_guid": "749c748f-19b5-4c69-9004-b6b20216616a",
                "language": "sql"
            },
            "outputs": [
                {
                    "output_type": "display_data",
                    "data": {
                        "text/html": "(1 row affected)"
                    },
                    "metadata": {}
                },
                {
                    "output_type": "display_data",
                    "data": {
                        "text/html": "Total execution time: 00:00:00.065"
                    },
                    "metadata": {}
                }
            ],
            "execution_count": 14
        },
        {
            "cell_type": "code",
            "source": [
                "SELECT * FROM holly.planned_makes"
            ],
            "metadata": {
                "language": "sql",
                "azdata_cell_guid": "4d100b5b-7498-416e-86ad-084492969a86"
            },
            "outputs": [
                {
                    "output_type": "display_data",
                    "data": {
                        "text/html": "(3 rows affected)"
                    },
                    "metadata": {}
                },
                {
                    "output_type": "display_data",
                    "data": {
                        "text/html": "Total execution time: 00:00:00.066"
                    },
                    "metadata": {}
                },
                {
                    "output_type": "execute_result",
                    "metadata": {},
                    "execution_count": 15,
                    "data": {
                        "application/vnd.dataresource+json": {
                            "schema": {
                                "fields": [
                                    {
                                        "name": "wizard_ID"
                                    },
                                    {
                                        "name": "wizard_name"
                                    },
                                    {
                                        "name": "wand_type"
                                    },
                                    {
                                        "name": "age"
                                    }
                                ]
                            },
                            "data": [
                                {
                                    "0": "1",
                                    "1": "Harry Potter",
                                    "2": "Unicorn hair",
                                    "3": "15"
                                },
                                {
                                    "0": "2",
                                    "1": "Hermione Granger",
                                    "2": "Dragon heartstring",
                                    "3": "12"
                                },
                                {
                                    "0": "3",
                                    "1": "Ronald Weasley",
                                    "2": "Pheonix Feather",
                                    "3": "11"
                                }
                            ]
                        },
                        "text/html": [
                            "<table>",
                            "<tr><th>wizard_ID</th><th>wizard_name</th><th>wand_type</th><th>age</th></tr>",
                            "<tr><td>1</td><td>Harry Potter</td><td>Unicorn hair</td><td>15</td></tr>",
                            "<tr><td>2</td><td>Hermione Granger</td><td>Dragon heartstring</td><td>12</td></tr>",
                            "<tr><td>3</td><td>Ronald Weasley</td><td>Pheonix Feather</td><td>11</td></tr>",
                            "</table>"
                        ]
                    }
                }
            ],
            "execution_count": 15
        },
        {
            "cell_type": "markdown",
            "source": [
                "## Drop the Table\n",
                "\n",
                "While this has been fun, it is time to drop the table!"
            ],
            "metadata": {
                "azdata_cell_guid": "2239cb09-137b-4579-905b-1aa020793181"
            },
            "attachments": {}
        },
        {
            "cell_type": "code",
            "source": [
                "USE JunkDB_STL_March2022\r\n",
                "DROP TABLE holly.planned_makes"
            ],
            "metadata": {
                "azdata_cell_guid": "b3c7f6ea-ee26-46b3-9c2a-2f7a82c39699",
                "language": "sql"
            },
            "outputs": [
                {
                    "output_type": "error",
                    "evalue": "Msg 3701, Level 11, State 5, Line 2\r\nCannot drop the table 'holly.planned_makes', because it does not exist or you do not have permission.",
                    "ename": "",
                    "traceback": []
                },
                {
                    "output_type": "display_data",
                    "data": {
                        "text/html": "Total execution time: 00:00:00.061"
                    },
                    "metadata": {}
                }
            ],
            "execution_count": 9
        }
    ]
}